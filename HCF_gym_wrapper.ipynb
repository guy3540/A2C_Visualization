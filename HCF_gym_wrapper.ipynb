{
  "nbformat": 4,
  "nbformat_minor": 0,
  "metadata": {
    "colab": {
      "name": "HFC_gym_wrapper.ipynb",
      "provenance": [],
      "collapsed_sections": []
    },
    "kernelspec": {
      "name": "python3",
      "display_name": "Python 3"
    }
  },
  "cells": [
    {
      "cell_type": "code",
      "metadata": {
        "id": "Fwd1ds8xhNIS",
        "colab_type": "code",
        "colab": {}
      },
      "source": [
        "import gym\n",
        "\n",
        "import os\n",
        "\n",
        "import glob\n",
        "\n",
        "import numpy as np\n",
        "\n",
        "from datetime import datetime\n",
        "\n",
        "import codecs, json\n",
        "\n",
        "\n",
        "# This wrapper extracts Hand Crafted Features from gym observations\n",
        "class HCFgymWrapper(gym.ObservationWrapper):\n",
        "    def __init__(self, env, FuncList, DstDir=os.getcwd()):\n",
        "      super().__init__(env)\n",
        "      self.FuncList = FuncList\n",
        "      self.DstDir = DstDir\n",
        "      self.resultsDir=os.path.join(self.DstDir, \"results\")\n",
        "      self.Outputs = dict()\n",
        "      if not os.path.exists(self.DstDir):\n",
        "          os.mkdir(self.DstDir)\n",
        "          os.mkdir(os.path.join(self.resultsDir))\n",
        "      elif not os.path.exists(os.path.join(self.resultsDir)):\n",
        "         os.mkdir(os.path.join(self.resultsDir))\n",
        "      for func in self.FuncList:\n",
        "          self.Outputs[func.__name__]=[]\n",
        "\n",
        "    def observation(self, obs):\n",
        "      # modify obs\n",
        "      for func in self.FuncList:\n",
        "          self.Outputs[func.__name__].append(func(obs).tolist())\n",
        "      return obs\n",
        "\n",
        "    def close(self):\n",
        "      now=str(datetime.now().strftime(\"%m.%d.%Y_%H:%M:%S\"))\n",
        "      results_file = os.path.join(self.resultsDir, \"HandCraftedFeatures\"+now+\".json\")\n",
        "      json.dump(self.Outputs, codecs.open(results_file, 'w', encoding='utf-8'))\n",
        "      return super().close()"
      ],
      "execution_count": 1,
      "outputs": []
    },
    {
      "cell_type": "code",
      "metadata": {
        "id": "65T-Gw8ChU2A",
        "colab_type": "code",
        "colab": {}
      },
      "source": [
        "import cv2\n",
        "\n",
        "def get_padel_position(obs=None, method=cv2.TM_CCOEFF_NORMED):\n",
        "    \"\"\"\n",
        "    return the avg. location of the padel over 4 consequtive observations\n",
        "    obs: np.ndarray.shape = (3,74). obs is the buttom part of the image, where the padel is.\n",
        "                                    we assume only the last frame in each observation as the\n",
        "                                    relevant for the current location (the others are there to give the\n",
        "                                    network a sense of motion).\n",
        "    method: string in [cv2.TM_CCOEFF, cv2.TM_CCOEFF_NORMED, cv2.TM_CCORR,\n",
        "                       cv2.TM_CCORR_NORMED, cv2.TM_SQDIFF, cv2.TM_SQDIFF_NORMED]\n",
        "    \"\"\"\n",
        "    obs=obs[75:78,5:79,0]\n",
        "    assert obs is not None\n",
        "    assert obs.shape[0] == 3 and obs.shape[1] == 74\n",
        "    assert obs.dtype in [np.uint8, np.float32]\n",
        "    assert method in [cv2.TM_CCOEFF, cv2.TM_CCOEFF_NORMED, cv2.TM_CCORR,\n",
        "                      cv2.TM_CCORR_NORMED, cv2.TM_SQDIFF, cv2.TM_SQDIFF_NORMED]\n",
        "    \n",
        "    padel_filter = np.array(([44, 44, 44, 44, 44],\n",
        "                             [110, 110, 110, 110, 110],\n",
        "                             [22, 22, 22, 22, 22]),dtype=np.uint8)\n",
        "    w, h = padel_filter.shape[::-1]\n",
        "    \n",
        "    res = cv2.matchTemplate(obs, padel_filter, method)\n",
        "    min_val, max_val, min_loc, max_loc = cv2.minMaxLoc(res)\n",
        "        # If the method is TM_SQDIFF or TM_SQDIFF_NORMED, take minimum\n",
        "    if method in [cv2.TM_SQDIFF, cv2.TM_SQDIFF_NORMED]:\n",
        "        center = min_loc + np.array([w/2, h/2])\n",
        "    else:\n",
        "        center = max_loc + np.array([w/2, h/2])\n",
        "     \n",
        "    center += [5, 75]\n",
        "    return center"
      ],
      "execution_count": 2,
      "outputs": []
    },
    {
      "cell_type": "code",
      "metadata": {
        "id": "wYJm1gZ2hWvi",
        "colab_type": "code",
        "colab": {}
      },
      "source": [
        "FuncList= []\n",
        "FuncList.append(get_padel_position)"
      ],
      "execution_count": 3,
      "outputs": []
    },
    {
      "cell_type": "code",
      "metadata": {
        "id": "9dv6qhLyhZvL",
        "colab_type": "code",
        "colab": {
          "base_uri": "https://localhost:8080/",
          "height": 34
        },
        "outputId": "1f6a0d66-3791-4f43-f008-3abe5120a112"
      },
      "source": [
        "FuncList"
      ],
      "execution_count": 4,
      "outputs": [
        {
          "output_type": "execute_result",
          "data": {
            "text/plain": [
              "[<function __main__.get_padel_position>]"
            ]
          },
          "metadata": {
            "tags": []
          },
          "execution_count": 4
        }
      ]
    },
    {
      "cell_type": "code",
      "metadata": {
        "id": "sCOl5__bhas1",
        "colab_type": "code",
        "colab": {}
      },
      "source": [
        "env=gym.make(\"Breakout-v4\")\n",
        "Wrap=HCFgymWrapper(env,FuncList=FuncList)"
      ],
      "execution_count": 5,
      "outputs": []
    },
    {
      "cell_type": "code",
      "metadata": {
        "id": "3YtVB93fhb6V",
        "colab_type": "code",
        "colab": {}
      },
      "source": [
        "T = 500\n",
        "s_t = Wrap.reset()\n",
        "for t in range(T):\n",
        "    a_t = Wrap.action_space.sample()\n",
        "    observations, rewards, dones, infos = Wrap.step(a_t)\n",
        "    if dones:\n",
        "        s_t = Wrap.reset()"
      ],
      "execution_count": 6,
      "outputs": []
    },
    {
      "cell_type": "code",
      "metadata": {
        "id": "PZa8NPdTu-wG",
        "colab_type": "code",
        "colab": {}
      },
      "source": [
        "# Wrap.Outputs"
      ],
      "execution_count": 7,
      "outputs": []
    },
    {
      "cell_type": "code",
      "metadata": {
        "id": "RyHC4QPLhpvU",
        "colab_type": "code",
        "colab": {}
      },
      "source": [
        "Wrap.close()"
      ],
      "execution_count": 8,
      "outputs": []
    },
    {
      "cell_type": "code",
      "metadata": {
        "id": "bxjw9R1JxLE2",
        "colab_type": "code",
        "colab": {
          "base_uri": "https://localhost:8080/",
          "height": 34
        },
        "outputId": "bce3b5ed-3c51-4a06-ce3d-54a1ae7a3d58"
      },
      "source": [
        "resultsDir=Wrap.resultsDir\n",
        "list_of_files = glob.glob(str(resultsDir+\"/*\")) # * means all if need specific format then *.csv\n",
        "latest_file = max(list_of_files, key=os.path.getctime)\n",
        "print(\"will open this file:\"+latest_file)"
      ],
      "execution_count": 9,
      "outputs": [
        {
          "output_type": "stream",
          "text": [
            "will open this file:/content/results/HandCraftedFeatures08.26.2020_08:04:13.json\n"
          ],
          "name": "stdout"
        }
      ]
    },
    {
      "cell_type": "code",
      "metadata": {
        "id": "umj18PgLyHhw",
        "colab_type": "code",
        "colab": {
          "base_uri": "https://localhost:8080/",
          "height": 34
        },
        "outputId": "14ac6f87-fa22-4532-ad71-957867c3b4af"
      },
      "source": [
        "resultsFile=os.path.abspath(latest_file)\n",
        "assert os.path.exists(resultsFile)\n",
        "with open(resultsFile, \"r\") as read_file:\n",
        "  data=json.load(read_file)\n",
        "data_ndarr=np.array(data['get_padel_position'])\n",
        "data_ndarr.shape"
      ],
      "execution_count": 10,
      "outputs": [
        {
          "output_type": "execute_result",
          "data": {
            "text/plain": [
              "(501, 2)"
            ]
          },
          "metadata": {
            "tags": []
          },
          "execution_count": 10
        }
      ]
    }
  ]
}